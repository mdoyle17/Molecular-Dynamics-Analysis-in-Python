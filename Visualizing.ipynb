{
 "cells": [
  {
   "cell_type": "code",
   "execution_count": 1,
   "metadata": {
    "scrolled": false
   },
   "outputs": [
    {
     "data": {
      "application/vnd.jupyter.widget-view+json": {
       "model_id": "c0efcdd909444fa8b9d053b25a2cd578",
       "version_major": 2,
       "version_minor": 0
      },
      "text/plain": []
     },
     "metadata": {},
     "output_type": "display_data"
    },
    {
     "data": {
      "application/vnd.jupyter.widget-view+json": {
       "model_id": "4b9b94c51f0f4469a62376d62b166d31",
       "version_major": 2,
       "version_minor": 0
      },
      "text/plain": [
       "NGLWidget(max_frame=37)"
      ]
     },
     "metadata": {},
     "output_type": "display_data"
    }
   ],
   "source": [
    "import nglview as nv\n",
    "import numpy as np\n",
    "import MDAnalysis as mda\n",
    "import MDAnalysisData\n",
    "\n",
    "u = mda.Universe('MD_files/nvt_25ns.gro', 'MD_files/nvt_25ns.xtc')\n",
    "\n",
    "u.transfer_to_memory(step=100)\n",
    "protein_P = u.select_atoms(\"resname SOL and name OW and resid 0:5000\")\n",
    "\n",
    "view = nv.show_mdanalysis(u)\n",
    "view.add_unitcell()\n",
    "view.control.rotate(\n",
    "    mda.lib.transformations.quaternion_from_euler(\n",
    "        -np.pi/2, np.pi/3, np.pi/6, 'rzyz').tolist())\n",
    "view.control.zoom(-0.3)\n",
    "view"
   ]
  },
  {
   "cell_type": "code",
   "execution_count": 15,
   "metadata": {},
   "outputs": [
    {
     "data": {
      "application/vnd.jupyter.widget-view+json": {
       "model_id": "1103dc2d7830487fbd28fdc645e71bd6",
       "version_major": 2,
       "version_minor": 0
      },
      "text/plain": [
       "NGLWidget(max_frame=37)"
      ]
     },
     "metadata": {},
     "output_type": "display_data"
    }
   ],
   "source": [
    "protein_P = u.select_atoms(\"resname SOL and resid 11100:11110 or resname OEX or resname WON WTW WTH WFO \")\n",
    "\n",
    "view = nv.show_mdanalysis(protein_P)\n",
    "\n",
    "view.add_ball_and_stick('_O', color='cyan')\n",
    "\n",
    "view.add_line()\n",
    "view.add_licorice('5')\n",
    "view.add_label('5', labelType='atomname')\n",
    "\n",
    "view\n",
    "\n"
   ]
  },
  {
   "cell_type": "markdown",
   "metadata": {},
   "source": [
    "## Reference Dataframe "
   ]
  },
  {
   "cell_type": "code",
   "execution_count": 6,
   "metadata": {},
   "outputs": [
    {
     "data": {
      "text/html": [
       "<div>\n",
       "<style scoped>\n",
       "    .dataframe tbody tr th:only-of-type {\n",
       "        vertical-align: middle;\n",
       "    }\n",
       "\n",
       "    .dataframe tbody tr th {\n",
       "        vertical-align: top;\n",
       "    }\n",
       "\n",
       "    .dataframe thead th {\n",
       "        text-align: right;\n",
       "    }\n",
       "</style>\n",
       "<table border=\"1\" class=\"dataframe\">\n",
       "  <thead>\n",
       "    <tr style=\"text-align: right;\">\n",
       "      <th></th>\n",
       "      <th>Resname</th>\n",
       "      <th>serial</th>\n",
       "      <th>name</th>\n",
       "      <th>altloc</th>\n",
       "      <th>somenum</th>\n",
       "      <th>chainid</th>\n",
       "      <th>x</th>\n",
       "      <th>y</th>\n",
       "      <th>z</th>\n",
       "      <th>OldResNumBeforeIONS</th>\n",
       "      <th>OriginalXTALChainID</th>\n",
       "      <th>OriginalXTALResid</th>\n",
       "      <th>BETTERID</th>\n",
       "    </tr>\n",
       "  </thead>\n",
       "  <tbody>\n",
       "    <tr>\n",
       "      <td>435058</td>\n",
       "      <td>11100.0</td>\n",
       "      <td>SOL</td>\n",
       "      <td>OW</td>\n",
       "      <td>5.0</td>\n",
       "      <td>59</td>\n",
       "      <td>NaN</td>\n",
       "      <td>8.466</td>\n",
       "      <td>4.275</td>\n",
       "      <td>5.962</td>\n",
       "      <td>7911.0</td>\n",
       "      <td>G</td>\n",
       "      <td>26</td>\n",
       "      <td>26</td>\n",
       "    </tr>\n",
       "    <tr>\n",
       "      <td>435061</td>\n",
       "      <td>11101.0</td>\n",
       "      <td>SOL</td>\n",
       "      <td>OW</td>\n",
       "      <td>5.0</td>\n",
       "      <td>62</td>\n",
       "      <td>NaN</td>\n",
       "      <td>8.363</td>\n",
       "      <td>4.409</td>\n",
       "      <td>6.131</td>\n",
       "      <td>7912.0</td>\n",
       "      <td>G</td>\n",
       "      <td>27</td>\n",
       "      <td>27</td>\n",
       "    </tr>\n",
       "    <tr>\n",
       "      <td>435064</td>\n",
       "      <td>11102.0</td>\n",
       "      <td>SOL</td>\n",
       "      <td>OW</td>\n",
       "      <td>5.0</td>\n",
       "      <td>65</td>\n",
       "      <td>NaN</td>\n",
       "      <td>8.547</td>\n",
       "      <td>4.488</td>\n",
       "      <td>5.824</td>\n",
       "      <td>7913.0</td>\n",
       "      <td>G</td>\n",
       "      <td>28</td>\n",
       "      <td>28</td>\n",
       "    </tr>\n",
       "    <tr>\n",
       "      <td>435067</td>\n",
       "      <td>11103.0</td>\n",
       "      <td>SOL</td>\n",
       "      <td>OW</td>\n",
       "      <td>5.0</td>\n",
       "      <td>68</td>\n",
       "      <td>NaN</td>\n",
       "      <td>8.489</td>\n",
       "      <td>4.762</td>\n",
       "      <td>5.896</td>\n",
       "      <td>7914.0</td>\n",
       "      <td>G</td>\n",
       "      <td>29</td>\n",
       "      <td>29</td>\n",
       "    </tr>\n",
       "    <tr>\n",
       "      <td>435070</td>\n",
       "      <td>11104.0</td>\n",
       "      <td>SOL</td>\n",
       "      <td>OW</td>\n",
       "      <td>5.0</td>\n",
       "      <td>71</td>\n",
       "      <td>NaN</td>\n",
       "      <td>8.288</td>\n",
       "      <td>4.677</td>\n",
       "      <td>6.105</td>\n",
       "      <td>7915.0</td>\n",
       "      <td>G</td>\n",
       "      <td>30</td>\n",
       "      <td>30</td>\n",
       "    </tr>\n",
       "    <tr>\n",
       "      <td>435073</td>\n",
       "      <td>11105.0</td>\n",
       "      <td>SOL</td>\n",
       "      <td>OW</td>\n",
       "      <td>5.0</td>\n",
       "      <td>74</td>\n",
       "      <td>NaN</td>\n",
       "      <td>7.967</td>\n",
       "      <td>4.544</td>\n",
       "      <td>6.235</td>\n",
       "      <td>7916.0</td>\n",
       "      <td>G</td>\n",
       "      <td>31</td>\n",
       "      <td>31</td>\n",
       "    </tr>\n",
       "  </tbody>\n",
       "</table>\n",
       "</div>"
      ],
      "text/plain": [
       "        Resname serial name  altloc  somenum  chainid      x      y      z  \\\n",
       "435058  11100.0    SOL   OW     5.0       59      NaN  8.466  4.275  5.962   \n",
       "435061  11101.0    SOL   OW     5.0       62      NaN  8.363  4.409  6.131   \n",
       "435064  11102.0    SOL   OW     5.0       65      NaN  8.547  4.488  5.824   \n",
       "435067  11103.0    SOL   OW     5.0       68      NaN  8.489  4.762  5.896   \n",
       "435070  11104.0    SOL   OW     5.0       71      NaN  8.288  4.677  6.105   \n",
       "435073  11105.0    SOL   OW     5.0       74      NaN  7.967  4.544  6.235   \n",
       "\n",
       "        OldResNumBeforeIONS OriginalXTALChainID  OriginalXTALResid  BETTERID  \n",
       "435058               7911.0                   G                 26        26  \n",
       "435061               7912.0                   G                 27        27  \n",
       "435064               7913.0                   G                 28        28  \n",
       "435067               7914.0                   G                 29        29  \n",
       "435070               7915.0                   G                 30        30  \n",
       "435073               7916.0                   G                 31        31  "
      ]
     },
     "execution_count": 6,
     "metadata": {},
     "output_type": "execute_result"
    }
   ],
   "source": [
    "import pandas as pd\n",
    "finalgro=pd.read_pickle('MD_files/WaterIDs.pkl')\n",
    "finalgro[14:20]"
   ]
  },
  {
   "cell_type": "code",
   "execution_count": null,
   "metadata": {},
   "outputs": [],
   "source": []
  }
 ],
 "metadata": {
  "kernelspec": {
   "display_name": "Python 3",
   "language": "python",
   "name": "python3"
  },
  "language_info": {
   "codemirror_mode": {
    "name": "ipython",
    "version": 3
   },
   "file_extension": ".py",
   "mimetype": "text/x-python",
   "name": "python",
   "nbconvert_exporter": "python",
   "pygments_lexer": "ipython3",
   "version": "3.7.4"
  }
 },
 "nbformat": 4,
 "nbformat_minor": 2
}
