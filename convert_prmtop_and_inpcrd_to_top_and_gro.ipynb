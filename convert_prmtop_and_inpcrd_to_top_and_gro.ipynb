{
 "cells": [
  {
   "cell_type": "code",
   "execution_count": 1,
   "metadata": {
    "scrolled": true
   },
   "outputs": [
    {
     "name": "stdout",
     "output_type": "stream",
     "text": [
      "/Users/yyk_lab/Downloads/2021_Full_MD_Simulation_Protocal_and_Records\n"
     ]
    }
   ],
   "source": [
    "%cd /Users/yyk_lab/Downloads/2021_Full_MD_Simulation_Protocal_and_Records"
   ]
  },
  {
   "cell_type": "markdown",
   "metadata": {},
   "source": [
    "## Load in AMBER format files...and save them out as GROMACS compatible topology and coordinate files"
   ]
  },
  {
   "cell_type": "code",
   "execution_count": 1,
   "metadata": {},
   "outputs": [],
   "source": [
    "import parmed as pmd\n",
    "\n",
    "amber = pmd.load_file('CL.prmtop', 'CL.inpcrd')\n",
    "\n",
    "amber.save('CL_new.top')\n",
    "amber.save('CL_new.gro')\n"
   ]
  },
  {
   "cell_type": "code",
   "execution_count": null,
   "metadata": {},
   "outputs": [],
   "source": []
  }
 ],
 "metadata": {
  "kernelspec": {
   "display_name": "Python 3",
   "language": "python",
   "name": "python3"
  },
  "language_info": {
   "codemirror_mode": {
    "name": "ipython",
    "version": 3
   },
   "file_extension": ".py",
   "mimetype": "text/x-python",
   "name": "python",
   "nbconvert_exporter": "python",
   "pygments_lexer": "ipython3",
   "version": "3.7.4"
  }
 },
 "nbformat": 4,
 "nbformat_minor": 2
}
